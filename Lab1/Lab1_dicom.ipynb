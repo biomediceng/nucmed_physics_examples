{
 "cells": [
  {
   "cell_type": "markdown",
   "metadata": {},
   "source": [
    "Please type your student name here:"
   ]
  },
  {
   "cell_type": "markdown",
   "metadata": {},
   "source": [
    "# Nuclear Medicine Physics Lab 1\n",
    "\n",
    "Designed by: Carlos Uribe, PhD, MCCPM"
   ]
  },
  {
   "cell_type": "markdown",
   "metadata": {},
   "source": [
    "## Objectives\n",
    "\n",
    "To familiarize yourself with:\n",
    "\n",
    "    1. The Digital Imaging and Communications in Medicine (DICOM) format; the standard in medical imaging applications.\n",
    "    \n",
    "    2. An opensource tool to view and perform simple measurements from diagnosti images\n",
    "    \n",
    "    3. Exploring a public repository of medical images, and downloading a dataset that you can use to improve your skillset (e.g. AI and ML).\n",
    "    \n",
    "    4. The Python programming language and the Jupyter Lab.\n",
    "    \n",
    "    5. Calculating sensitivity of a gamma camera.\n",
    "    \n",
    "    6. Energy window scatter correction method as used in SPECT."
   ]
  },
  {
   "cell_type": "code",
   "execution_count": null,
   "metadata": {},
   "outputs": [],
   "source": []
  },
  {
   "cell_type": "code",
   "execution_count": null,
   "metadata": {},
   "outputs": [],
   "source": []
  },
  {
   "cell_type": "markdown",
   "metadata": {},
   "source": [
    "## <center>The Cancer Imaging Archive (TCIA)</center>\n",
    "![TCIA.png](https://github.com/carluri/nucmed_physics_examples/blob/master/Figures/TCIA.png?raw=true)\n",
    "\n",
    "1. Visit <https://www.cancerimagingarchive.net/>\n",
    "2. Click on \"Access the Data\"\n",
    "3. Go to \"Search Radiology\"\n",
    "4. Filter by “Imaging Modality” PT and CT (might have to click on show more)\n",
    "5. Filter by \"Anatomical Site\" HEADNECK. We are looking for a dataset from the collection \"[QIN-HEADNECK](https://wiki.cancerimagingarchive.net/display/Public/QIN-HEADNECK#6885289c9abe2d771b747348588e3b17e2cb219)\". As cited below:\n",
    "\n",
    "    \n",
    "    _Beichel R R, Ulrich E J, Bauer C, Wahle A, Brown B, Chang T, Plichta K A, Smith B J, Sunderland J J, Braun T, Fedorov A, Clunie D, Onken M, Magnotta VA, Menda Y, Riesmeier J, Pieper S, Kikinis R, Graham M M, Casavant T L, Sonka M, Buatti J M. (2015). Data From QIN-HEADNECK. The Cancer Imaging Archive. DOI:  10.7937/K9/TCIA.2015.K0F5CGLI_\n",
    "    \n",
    "6. Click on Search Results (at the top) and navigate the pages until you see a QIN-HEADNECK collection.\n",
    "7. Find the \"QIN-HEADNECK-01-0634\" Subject. Enter this ID in the SubjectID field on the left of the screen.\n",
    "8. Add the dataset to your download cart.\n",
    "9. Click \"Download\" on the top right of the site.\n",
    "10. You need to install the NBIA Data Retriever. Please do that for the operating system you're using.\n",
    "\n",
    "![NBIA.png](https://github.com/carluri/nucmed_physics_examples/blob/master/Figures/NBIA.png?raw=true)\n",
    "\n",
    "11. Click on the .tcia file you downloaded after instally NBIA. The NBIA Data Retriever will open and you can choose the folder for the downloaded files. Download the files.\n",
    "\n",
    "![download_dataset.png](https://github.com/carluri/nucmed_physics_examples/blob/master/Figures/download_dataset.png?raw=true)\n",
    "\n",
    "\n",
    "### WE HAVE DATA!!!!"
   ]
  },
  {
   "cell_type": "code",
   "execution_count": null,
   "metadata": {},
   "outputs": [],
   "source": []
  },
  {
   "cell_type": "code",
   "execution_count": null,
   "metadata": {},
   "outputs": [],
   "source": []
  },
  {
   "cell_type": "markdown",
   "metadata": {},
   "source": [
    "## AMIDE\n",
    "\n",
    "1. You can google \"amide dicom\" and open the link shown below\n",
    "\n",
    "![amide_google.png](https://github.com/carluri/nucmed_physics_examples/blob/master/Figures/amide_google.png?raw=true)\n",
    "\n",
    "2. Download AMIDE for your computer and install it.\n",
    "\n",
    "3. Launch Amide.\n",
    "\n",
    "![amide_google.png](https://github.com/carluri/nucmed_physics_examples/blob/master/Figures/amide.png?raw=true)\n",
    "\n",
    "4. Now try to get familiar with the software:\n",
    "\n",
    "    a. Open the study you downloaded, bot the PET and CT.\n",
    "    \n",
    "    b. Scroll through the slices.\n",
    "    \n",
    "    c. See what the zoom button at the top does.\n",
    "    \n",
    "    d. Play with the different colormaps. Change the threshold.\n",
    "    \n",
    "    e. Identify the position and value of the voxel where your cursor is.\n",
    "    \n",
    "    f. Right click on the series name and look for basic info of the data.\n",
    "    \n",
    "    g. Invert the axis.\n",
    "    \n",
    "    h. Create a volume render.\n",
    "    \n",
    "    i. Add two fiducial markers.\n",
    "    \n",
    "    j. Measure the distance between the fiducial markers.\n",
    "    \n",
    "    k. Familiarize yourself with the filter function.\n",
    "    \n",
    "    l. Familiarize yourself with the line profile tool.\n",
    "    \n",
    "    m. Perform a math operation on the datasets.\n",
    "    \n",
    "    n. Draw and ROI\n",
    "    \n",
    "    o. Calculate ROI statistics.\n"
   ]
  },
  {
   "cell_type": "code",
   "execution_count": null,
   "metadata": {},
   "outputs": [],
   "source": []
  },
  {
   "cell_type": "markdown",
   "metadata": {},
   "source": [
    "## Other tools\n",
    "\n",
    "Mac:\n",
    "*    [Horos Project](https://horosproject.org/)\n",
    "\n",
    "Windows:\n",
    "* [3DSlicer](https://www.slicer.org/)\n",
    "\n",
    "\n",
    "\n",
    "More tools in [Awesome Qurit](https://github.com/qurit/awesome-qurit)\n",
    "\n",
    "![qurit_awesome.png](https://github.com/carluri/nucmed_physics_examples/blob/master/Figures/qurit_awesome.png?raw=true)"
   ]
  },
  {
   "cell_type": "code",
   "execution_count": null,
   "metadata": {},
   "outputs": [],
   "source": []
  },
  {
   "cell_type": "code",
   "execution_count": null,
   "metadata": {},
   "outputs": [],
   "source": []
  },
  {
   "cell_type": "markdown",
   "metadata": {},
   "source": [
    "## Let's go to binder\n",
    "\n",
    "https://binder.mybinder.turing.ac.uk/\n",
    "\n",
    "We're going to link to a GitHub repository\n",
    "\n",
    "https://github.com/carluri/nucmed_physics_examples\n",
    "\n",
    "![binder.png](https://github.com/carluri/nucmed_physics_examples/blob/master/Figures/binder.png?raw=true)\n",
    "\n",
    "\n",
    "To use jupyter lab modify the URL from \"tree\" to \"lab\"\n",
    "\n"
   ]
  },
  {
   "cell_type": "code",
   "execution_count": null,
   "metadata": {},
   "outputs": [],
   "source": []
  },
  {
   "cell_type": "code",
   "execution_count": null,
   "metadata": {},
   "outputs": [],
   "source": []
  },
  {
   "cell_type": "markdown",
   "metadata": {},
   "source": [
    "## Moving to Python\n",
    "\n",
    "See other Jupyter notebook titled \"Lab1_PythonCrashCourse.ipynb\""
   ]
  },
  {
   "cell_type": "code",
   "execution_count": null,
   "metadata": {},
   "outputs": [],
   "source": []
  },
  {
   "cell_type": "code",
   "execution_count": null,
   "metadata": {},
   "outputs": [],
   "source": []
  },
  {
   "cell_type": "markdown",
   "metadata": {},
   "source": [
    "# Install required packages"
   ]
  },
  {
   "cell_type": "code",
   "execution_count": null,
   "metadata": {},
   "outputs": [],
   "source": [
    "pip install pydicom numpy matplotlib pandas"
   ]
  },
  {
   "cell_type": "markdown",
   "metadata": {},
   "source": [
    "# Load needed packages"
   ]
  },
  {
   "cell_type": "code",
   "execution_count": null,
   "metadata": {},
   "outputs": [],
   "source": [
    "import numpy as np  #arrays and matrices\n",
    "import pydicom #library for DICOM support\n",
    "import matplotlib.pyplot as plt #for visualization and plots\n",
    "import pandas as pd #for data analysis"
   ]
  },
  {
   "cell_type": "markdown",
   "metadata": {},
   "source": [
    "## Open Header File"
   ]
  },
  {
   "cell_type": "code",
   "execution_count": null,
   "metadata": {},
   "outputs": [],
   "source": [
    "hdr = pydicom.read_file('5-040.dcm')"
   ]
  },
  {
   "cell_type": "code",
   "execution_count": null,
   "metadata": {
    "scrolled": true
   },
   "outputs": [],
   "source": [
    "hdr"
   ]
  },
  {
   "cell_type": "markdown",
   "metadata": {},
   "source": [
    "### call fields in the header"
   ]
  },
  {
   "cell_type": "code",
   "execution_count": null,
   "metadata": {},
   "outputs": [],
   "source": [
    "hdr.StudyTime"
   ]
  },
  {
   "cell_type": "code",
   "execution_count": null,
   "metadata": {},
   "outputs": [],
   "source": [
    "hdr.StudyDate"
   ]
  },
  {
   "cell_type": "code",
   "execution_count": null,
   "metadata": {},
   "outputs": [],
   "source": [
    "hdr.SeriesTime"
   ]
  },
  {
   "cell_type": "markdown",
   "metadata": {},
   "source": [
    "## Can you find out the following information from this scan?"
   ]
  },
  {
   "cell_type": "markdown",
   "metadata": {},
   "source": [
    "#### Patient Age"
   ]
  },
  {
   "cell_type": "code",
   "execution_count": null,
   "metadata": {},
   "outputs": [],
   "source": []
  },
  {
   "cell_type": "markdown",
   "metadata": {},
   "source": [
    "#### Patient Name"
   ]
  },
  {
   "cell_type": "code",
   "execution_count": null,
   "metadata": {},
   "outputs": [],
   "source": []
  },
  {
   "cell_type": "markdown",
   "metadata": {},
   "source": [
    "#### Patient ID"
   ]
  },
  {
   "cell_type": "code",
   "execution_count": null,
   "metadata": {},
   "outputs": [],
   "source": []
  },
  {
   "cell_type": "markdown",
   "metadata": {},
   "source": [
    "#### Who is the manufacturer and model name of the scanner?"
   ]
  },
  {
   "cell_type": "code",
   "execution_count": null,
   "metadata": {},
   "outputs": [],
   "source": []
  },
  {
   "cell_type": "code",
   "execution_count": null,
   "metadata": {},
   "outputs": [],
   "source": []
  },
  {
   "cell_type": "markdown",
   "metadata": {},
   "source": [
    "#### What is the thickness of a slice?  (the units are given in mm)"
   ]
  },
  {
   "cell_type": "code",
   "execution_count": null,
   "metadata": {},
   "outputs": [],
   "source": []
  },
  {
   "cell_type": "markdown",
   "metadata": {},
   "source": [
    "#### What is the pixel size of this image? (units in mm)"
   ]
  },
  {
   "cell_type": "code",
   "execution_count": null,
   "metadata": {},
   "outputs": [],
   "source": []
  },
  {
   "cell_type": "markdown",
   "metadata": {},
   "source": [
    "### ****************************************************************"
   ]
  },
  {
   "cell_type": "markdown",
   "metadata": {},
   "source": [
    "# Lu-177 Sensitivity of a Gamma Camera"
   ]
  },
  {
   "cell_type": "markdown",
   "metadata": {},
   "source": [
    "### The file `Calibration.dcm` is the result of a scan of a Lu-177 point source:\n",
    "\n",
    "### The file `Cal_spectrum.csv` contains the measured spectrum for this source"
   ]
  },
  {
   "cell_type": "markdown",
   "metadata": {},
   "source": [
    "### Let's start by plotting the spectrum"
   ]
  },
  {
   "cell_type": "code",
   "execution_count": null,
   "metadata": {},
   "outputs": [],
   "source": [
    "df = pd.read_csv('Cal_spectrum.csv')\n",
    "df.head()"
   ]
  },
  {
   "cell_type": "code",
   "execution_count": null,
   "metadata": {},
   "outputs": [],
   "source": [
    "plt.figure(figsize=(10,10));\n",
    "plt.plot(df.energy_kev,df.counts);\n",
    "plt.xlim((0,400));\n",
    "plt.ylim((0,6300));\n",
    "plt.title('Calibration Source Measured Spectrum');\n",
    "plt.ylabel('Counts');\n",
    "plt.xlabel('E [keV]');"
   ]
  },
  {
   "cell_type": "markdown",
   "metadata": {},
   "source": [
    "### Load the `Calibration.dcm` file and store the info in a variable called `hdr`. "
   ]
  },
  {
   "cell_type": "code",
   "execution_count": null,
   "metadata": {},
   "outputs": [],
   "source": []
  },
  {
   "cell_type": "code",
   "execution_count": null,
   "metadata": {
    "scrolled": true
   },
   "outputs": [],
   "source": [
    "# show the contents of hdr\n",
    "hdr"
   ]
  },
  {
   "cell_type": "markdown",
   "metadata": {},
   "source": [
    "### Calculate the acquisition duration in minutes and store it in a variable called `acq_duration`"
   ]
  },
  {
   "cell_type": "code",
   "execution_count": null,
   "metadata": {},
   "outputs": [],
   "source": [
    "acq_duration = \n",
    "acq_duration"
   ]
  },
  {
   "cell_type": "markdown",
   "metadata": {},
   "source": [
    "### How many detectors did this SPECT system have?"
   ]
  },
  {
   "cell_type": "code",
   "execution_count": null,
   "metadata": {},
   "outputs": [],
   "source": [
    "ndet = \n",
    "ndet"
   ]
  },
  {
   "cell_type": "markdown",
   "metadata": {},
   "source": [
    "### How many energy windows were used to collect this data?"
   ]
  },
  {
   "cell_type": "code",
   "execution_count": null,
   "metadata": {},
   "outputs": [],
   "source": [
    "nwin = \n",
    "nwin"
   ]
  },
  {
   "cell_type": "markdown",
   "metadata": {},
   "source": [
    "### Can you find what is the lower limit of the first energy window? Hint: inspect the `EnergyWindowInformationSequence` field of the DICOM file"
   ]
  },
  {
   "cell_type": "code",
   "execution_count": null,
   "metadata": {},
   "outputs": [],
   "source": []
  },
  {
   "cell_type": "markdown",
   "metadata": {},
   "source": [
    "### Create a dictionary `ewin` to summarize the information of the different energy windows. For this, complete the following `for` loop for the different keys of the window."
   ]
  },
  {
   "cell_type": "code",
   "execution_count": null,
   "metadata": {},
   "outputs": [],
   "source": [
    "ewin = {}\n",
    "\n",
    "for w in range(nwin):\n",
    "    ewin[w] = {}\n",
    "    ewin[w]['lower'] = \n",
    "    ewin[w]['upper'] = \n",
    "    ewin[w]['center'] = \n",
    "    ewin[w]['width'] = ewin[w]['upper'] - ewin[w]['lower']\n",
    "ewin"
   ]
  },
  {
   "cell_type": "markdown",
   "metadata": {},
   "source": [
    "### The image data is contained in the `pixel_array` field of the DICOM file. Load the image data into the `img` variable and show the shape of that image."
   ]
  },
  {
   "cell_type": "code",
   "execution_count": null,
   "metadata": {},
   "outputs": [],
   "source": [
    "img = \n",
    "img.shape"
   ]
  },
  {
   "cell_type": "markdown",
   "metadata": {},
   "source": [
    "### Let's pause for a moment and try to understand that image"
   ]
  },
  {
   "cell_type": "markdown",
   "metadata": {},
   "source": [
    "#### Explore the `EnergyWindowVector` field"
   ]
  },
  {
   "cell_type": "code",
   "execution_count": null,
   "metadata": {},
   "outputs": [],
   "source": []
  },
  {
   "cell_type": "markdown",
   "metadata": {},
   "source": [
    "#### What does the first dimension of that array mean?"
   ]
  },
  {
   "cell_type": "code",
   "execution_count": null,
   "metadata": {},
   "outputs": [],
   "source": []
  },
  {
   "cell_type": "markdown",
   "metadata": {},
   "source": [
    "#### What can you say about the other 2 dimensions?"
   ]
  },
  {
   "cell_type": "code",
   "execution_count": null,
   "metadata": {},
   "outputs": [],
   "source": []
  },
  {
   "cell_type": "markdown",
   "metadata": {},
   "source": [
    "### Let's now visualize the data. (play with the maximum and minimum display)"
   ]
  },
  {
   "cell_type": "code",
   "execution_count": null,
   "metadata": {},
   "outputs": [],
   "source": [
    "plt.figure(figsize=(22,6))\n",
    "for ind,i in enumerate(range(0,int(img.shape[0]),2)):\n",
    "    # Top row Detector 1\n",
    "    plt.subplot(2,6,ind+1)\n",
    "    plt.imshow(img[i,:,:])\n",
    "    plt.title(f'Detector1 {ewin[ind][\"center\"]} keV')\n",
    "    plt.colorbar()\n",
    "    \n",
    "    \n",
    "#     # Bottom row Detector 2\n",
    "    plt.subplot(2,6,ind+7)\n",
    "    plt.imshow(img[i+1,:,:])\n",
    "    plt.title(f'Detector2 {ewin[ind][\"center\"]} keV')\n",
    "    plt.colorbar()\n",
    "\n",
    "\n",
    "plt.tight_layout()"
   ]
  },
  {
   "cell_type": "markdown",
   "metadata": {},
   "source": [
    "## Which detector was on top of the camera bed and which one below it?"
   ]
  },
  {
   "cell_type": "code",
   "execution_count": null,
   "metadata": {},
   "outputs": [],
   "source": []
  },
  {
   "cell_type": "markdown",
   "metadata": {},
   "source": [
    "## How many counts do you have in each window for each detector? \n",
    "\n",
    "Fill the `counts` dictionary below using the window center as the key for the empty dictionary of each detector"
   ]
  },
  {
   "cell_type": "code",
   "execution_count": null,
   "metadata": {},
   "outputs": [],
   "source": [
    "counts = {'Detector1':{},'Detector2':{}}\n",
    "\n"
   ]
  },
  {
   "cell_type": "code",
   "execution_count": null,
   "metadata": {},
   "outputs": [],
   "source": [
    "counts"
   ]
  },
  {
   "cell_type": "markdown",
   "metadata": {},
   "source": [
    "## Triple Energy Window Scatter Correction\n",
    "\n",
    "![binder.png](https://github.com/carluri/nucmed_physics_examples/blob/master/Figures/TEW1.png?raw=true)\n",
    "![binder.png](https://github.com/carluri/nucmed_physics_examples/blob/master/Figures/TEW2.png?raw=true)\n",
    "\n",
    "\n",
    "$C_{prim} = C_{pw} - C_{scat}$\n",
    "\n",
    "\n",
    "$C_{scat} = \\left(\\frac{C_{lw}}{\\omega_{lw}} + \\frac{C_{uw}}{\\omega_{uw}}\\right)\\frac{\\omega_{pw}}{2}$\n",
    "\n",
    "Where:\n",
    "\n",
    "$C_{prim}$  primary counts (i.e. coming directly from the source)\n",
    "\n",
    "$C_{pw}$ counts detected in the photopeak window\n",
    "\n",
    "$C_{lw}$ counts in the lower window\n",
    "\n",
    "$C_{uw}$ counds in the upper window\n",
    "\n",
    "$\\omega_{lw}$ width of the lower window\n",
    "\n",
    "$\\omega_{uw}$ width of the upper window\n",
    "\n",
    "$\\omega_{pw}$ width of the photopeak window\n",
    "\n",
    "$C_{scat}$ scattered counts\n",
    "\n",
    "\n",
    "\n",
    "\n"
   ]
  },
  {
   "cell_type": "markdown",
   "metadata": {},
   "source": [
    "## The sensitivity is defined as:\n",
    "\n",
    "$S = \\frac{C}{A\\times t} $\n",
    "\n",
    "where:\n",
    "\n",
    "$S$ is the sensitivity\n",
    "\n",
    "$C$ is the counts measured by the detector\n",
    "\n",
    "$A$ is the activity of the source at the start of acquisition\n",
    "\n",
    "$t$ is the acquisition duration"
   ]
  },
  {
   "cell_type": "markdown",
   "metadata": {},
   "source": [
    "## Calculate the activity of the source at the time of acquisition? The info for the reference date and time are given below"
   ]
  },
  {
   "cell_type": "code",
   "execution_count": null,
   "metadata": {},
   "outputs": [],
   "source": [
    "from datetime import datetime"
   ]
  },
  {
   "cell_type": "code",
   "execution_count": null,
   "metadata": {},
   "outputs": [],
   "source": [
    "A0 =13 #MBq\n",
    "\n",
    "t_ref = '20140123 175900'\n",
    "t_acq = f\"{hdr.AcquisitionDate} {hdr.AcquisitionTime.split('.')[0]}\"\n",
    "\n",
    "t_ref = datetime.strptime(t_ref,'%Y%m%d %H%M%S')\n",
    "t_acq = datetime.strptime(t_acq,'%Y%m%d %H%M%S')\n",
    "\n",
    "delta_t = t_acq - t_ref\n",
    "\n",
    "delta = delta_t.total_seconds()/60 #this gives delta_t in minutes"
   ]
  },
  {
   "cell_type": "code",
   "execution_count": null,
   "metadata": {},
   "outputs": [],
   "source": [
    "def activity_decay(A_initial,delta_t,half_life):\n",
    "    '''\n",
    "    Calculates the decayed activity\n",
    "\n",
    "    Input:\n",
    "        A_initial: (float)\n",
    "            Initial value of the activity\n",
    "            \n",
    "        delta_t: (float)\n",
    "            elapsed time between the initial activity and the time at which it is desired\n",
    "            \n",
    "        half_life: (float)\n",
    "            the half life of the radioisotope. Should be in the same units as delta_t\n",
    "            \n",
    "    \n",
    "    Output:\n",
    "        A_decayed: (float)\n",
    "            Value of the activity after it decays \n",
    "    '''\n",
    "    \n",
    "    \n",
    "    \n",
    "    return A_decayed"
   ]
  },
  {
   "cell_type": "code",
   "execution_count": null,
   "metadata": {},
   "outputs": [],
   "source": [
    "half_life =  \n",
    "A_acq = activity_decay(A0,delta,half_life)"
   ]
  },
  {
   "cell_type": "markdown",
   "metadata": {},
   "source": [
    "### Use Detector 1 for the following:"
   ]
  },
  {
   "cell_type": "code",
   "execution_count": null,
   "metadata": {},
   "outputs": [],
   "source": [
    "det = 'Detector1'"
   ]
  },
  {
   "cell_type": "markdown",
   "metadata": {},
   "source": [
    "### Calculate the sensitivity of this gamma camera for the 208 keV photopeak of Lu-177 in cpm/kBq"
   ]
  },
  {
   "cell_type": "code",
   "execution_count": null,
   "metadata": {},
   "outputs": [],
   "source": [
    "sens_208 = \n",
    "sens_208"
   ]
  },
  {
   "cell_type": "markdown",
   "metadata": {},
   "source": [
    "### Calculate the sensitivity of this gamma camera for the 208 keV photopeak of Lu-177 corrected for scatter in cpm/kBq"
   ]
  },
  {
   "cell_type": "code",
   "execution_count": null,
   "metadata": {},
   "outputs": [],
   "source": [
    "sens = \n",
    "sens"
   ]
  },
  {
   "cell_type": "markdown",
   "metadata": {},
   "source": [
    "### Which of the 2 sensitivity values would you use to generate quantitatively accurate images? Why?"
   ]
  },
  {
   "cell_type": "code",
   "execution_count": null,
   "metadata": {},
   "outputs": [],
   "source": []
  }
 ],
 "metadata": {
  "kernelspec": {
   "display_name": "PHYS541",
   "language": "python",
   "name": "phys541"
  },
  "language_info": {
   "codemirror_mode": {
    "name": "ipython",
    "version": 3
   },
   "file_extension": ".py",
   "mimetype": "text/x-python",
   "name": "python",
   "nbconvert_exporter": "python",
   "pygments_lexer": "ipython3",
   "version": "3.9.1"
  }
 },
 "nbformat": 4,
 "nbformat_minor": 4
}
